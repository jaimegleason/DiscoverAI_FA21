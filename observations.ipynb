{
    "metadata": {
        "kernelspec": {
            "name": "python3",
            "display_name": "Python 3 (ipykernel)",
            "language": "python"
        }
    },
    "nbformat": 4,
    "nbformat_minor": 2,
    "cells": [
        {
            "attachments": {},
            "cell_type": "markdown",
            "metadata": {},
            "source": [
                "**Describe the problem that you chose to solve. How is it related to the topic that your team will investigate for the Discover AI project?**"
            ]
        },
        {
            "attachments": {},
            "cell_type": "markdown",
            "metadata": {},
            "source": [
                "I decided that the program should predict the number of soldiers on active duty in a given year, using all other columns of the dataset. I chose this particular problem because our team is investigating the intersection between AI and the military for the Discover AI project. Perhaps this dataset will prove useful during our research."
            ]
        },
        {
            "attachments": {},
            "cell_type": "markdown",
            "metadata": {},
            "source": [
                "**Did you have to clean your dataset? If yes, desribe what you did.**"
            ]
        },
        {
            "attachments": {},
            "cell_type": "markdown",
            "metadata": {},
            "source": [
                "I did not have to clean the dataset; no values in the table were blank or null."
            ]
        },
        {
            "attachments": {},
            "cell_type": "markdown",
            "metadata": {},
            "source": [
                "**Did the program run successfully? If yes, summarise the results, otherwise, describe what went wrong and your attempt(s) to fix it.**"
            ]
        },
        {
            "attachments": {},
            "cell_type": "markdown",
            "metadata": {},
            "source": [
                "The program did not run successfully the first time I attempted it. I initially chose the 'Homicide' column as the one for the program to predict values for, which yielded an error message from the notebook. So, I changed the predicted column to 'Active Duty' instead, which compiled successfully. Even though the program ran, it does not seem to be very good at predicting values, as its accuracy score remained 0.0 the dozens of times that I ran it."
            ]
        },
        {
            "attachments": {},
            "cell_type": "markdown",
            "metadata": {},
            "source": [
                "**Insert github link for lab 2**\n",
                "\n",
                "[How to create a github repository and upload files](https://drive.google.com/file/d/1XmCQTco7y8ikB9RGiY3LhONylRuReQ8X/view)."
            ]
        },
        {
            "attachments": {},
            "cell_type": "markdown",
            "metadata": {},
            "source": [
                ""
            ]
        }
    ]
}
