{
    "metadata": {
        "kernelspec": {
            "name": "python3",
            "display_name": "Python 3 (ipykernel)",
            "language": "python"
        }
    },
    "nbformat": 4,
    "nbformat_minor": 2,
    "cells": [
        {
            "attachments": {},
            "cell_type": "markdown",
            "metadata": {},
            "source": [
                "This code is an introduction to supervised learning solving a classification problem using **decision trees**.\n",
                "It follows [this tutorial](https://youtu.be/7eh4d6sabA0). "
            ]
        },
        {
            "attachments": {},
            "cell_type": "markdown",
            "metadata": {},
            "source": [
                "# **Classification Problem**\n",
                "We will follow these steps of solving a machine learning problem.\n",
                "\n",
                "\n",
                "1. Import the Data\n",
                "2. Clean the Data\n",
                "3. split the Data into Training/ Test steps\n",
                "4. Create a Model\n",
                "5. Train the Model\n",
                "6. Make Predictions\n",
                "7. Evaluate and improve\n",
                ""
            ]
        },
        {
            "attachments": {},
            "cell_type": "markdown",
            "metadata": {},
            "source": [
                "# Problem description\n",
                "Enter in the text cell below what you will be predicting in this classification problem (y) and which columns will be used in the prediction (X)"
            ]
        },
        {
            "attachments": {},
            "cell_type": "markdown",
            "metadata": {},
            "source": [
                "In this classification problem, the model will predict the number of soldiers on active duty in a given year, using all columns of the dataset besides \"Active Duty\"."
            ]
        },
        {
            "cell_type": "code",
            "execution_count": 6,
            "metadata": {},
            "outputs": [],
            "source": [
                "import pandas as pd\n",
                "from sklearn.tree import DecisionTreeClassifier\n",
                "from sklearn.model_selection import train_test_split\n",
                "from sklearn.metrics import accuracy_score\n",
                "import joblib\n",
                "from sklearn import tree"
            ]
        },
        {
            "attachments": {},
            "cell_type": "markdown",
            "metadata": {},
            "source": [
                "1. Import the Data."
            ]
        },
        {
            "cell_type": "code",
            "execution_count": 7,
            "metadata": {},
            "outputs": [],
            "source": [
                "df = pd.read_csv('cleanedfile.csv')"
            ]
        },
        {
            "attachments": {},
            "cell_type": "markdown",
            "metadata": {},
            "source": [
                "2. Display columns and describe the data set"
            ]
        },
        {
            "cell_type": "code",
            "execution_count": 8,
            "metadata": {},
            "outputs": [
                {
                    "name": "stdout",
                    "output_type": "stream",
                    "text": "\u003cclass 'pandas.core.frame.DataFrame'\u003e\nRangeIndex: 31 entries, 0 to 30\nData columns (total 14 columns):\n #   Column                         Non-Null Count  Dtype  \n---  ------                         --------------  -----  \n 0   Calendar Year                  31 non-null     int64  \n 1   Active Duty                    31 non-null     int64  \n 2   Full-Time (est) Guard+Reserve  31 non-null     int64  \n 3   Selected Reserve FTE           31 non-null     int64  \n 4   Total Military FTE             31 non-null     int64  \n 5   Total Deaths                   31 non-null     int64  \n 6   Accident                       31 non-null     float64\n 7   Hostile Action                 31 non-null     int64  \n 8   Homicide                       31 non-null     int64  \n 9   Illness                        31 non-null     int64  \n 10  Pending                        31 non-null     int64  \n 11  Self-Inflicted                 31 non-null     int64  \n 12  Terrorist Attack               31 non-null     int64  \n 13  Undetermined                   31 non-null     int64  \ndtypes: float64(1), int64(13)\nmemory usage: 3.5 KB\n"
                }
            ],
            "source": [
                "df.info()"
            ]
        },
        {
            "cell_type": "code",
            "execution_count": 9,
            "metadata": {},
            "outputs": [
                {
                    "data": {
                        "text/html": "\u003cdiv\u003e\n\u003cstyle scoped\u003e\n    .dataframe tbody tr th:only-of-type {\n        vertical-align: middle;\n    }\n\n    .dataframe tbody tr th {\n        vertical-align: top;\n    }\n\n    .dataframe thead th {\n        text-align: right;\n    }\n\u003c/style\u003e\n\u003ctable border=\"1\" class=\"dataframe\"\u003e\n  \u003cthead\u003e\n    \u003ctr style=\"text-align: right;\"\u003e\n      \u003cth\u003e\u003c/th\u003e\n      \u003cth\u003eCalendar Year\u003c/th\u003e\n      \u003cth\u003eActive Duty\u003c/th\u003e\n      \u003cth\u003eFull-Time (est) Guard+Reserve\u003c/th\u003e\n      \u003cth\u003eSelected Reserve FTE\u003c/th\u003e\n      \u003cth\u003eTotal Military FTE\u003c/th\u003e\n      \u003cth\u003eTotal Deaths\u003c/th\u003e\n      \u003cth\u003eAccident\u003c/th\u003e\n      \u003cth\u003eHostile Action\u003c/th\u003e\n      \u003cth\u003eHomicide\u003c/th\u003e\n      \u003cth\u003eIllness\u003c/th\u003e\n      \u003cth\u003ePending\u003c/th\u003e\n      \u003cth\u003eSelf-Inflicted\u003c/th\u003e\n      \u003cth\u003eTerrorist Attack\u003c/th\u003e\n      \u003cth\u003eUndetermined\u003c/th\u003e\n    \u003c/tr\u003e\n  \u003c/thead\u003e\n  \u003ctbody\u003e\n    \u003ctr\u003e\n      \u003cth\u003ecount\u003c/th\u003e\n      \u003ctd\u003e31.000000\u003c/td\u003e\n      \u003ctd\u003e3.100000e+01\u003c/td\u003e\n      \u003ctd\u003e31.000000\u003c/td\u003e\n      \u003ctd\u003e31.000000\u003c/td\u003e\n      \u003ctd\u003e3.100000e+01\u003c/td\u003e\n      \u003ctd\u003e31.000000\u003c/td\u003e\n      \u003ctd\u003e31.000000\u003c/td\u003e\n      \u003ctd\u003e31.000000\u003c/td\u003e\n      \u003ctd\u003e31.000000\u003c/td\u003e\n      \u003ctd\u003e31.000000\u003c/td\u003e\n      \u003ctd\u003e31.000000\u003c/td\u003e\n      \u003ctd\u003e31.000000\u003c/td\u003e\n      \u003ctd\u003e31.000000\u003c/td\u003e\n      \u003ctd\u003e31.000000\u003c/td\u003e\n    \u003c/tr\u003e\n    \u003ctr\u003e\n      \u003cth\u003emean\u003c/th\u003e\n      \u003ctd\u003e1995.000000\u003c/td\u003e\n      \u003ctd\u003e1.702285e+06\u003c/td\u003e\n      \u003ctd\u003e63614.516129\u003c/td\u003e\n      \u003ctd\u003e131157.935484\u003c/td\u003e\n      \u003ctd\u003e1.897057e+06\u003c/td\u003e\n      \u003ctd\u003e1575.290323\u003c/td\u003e\n      \u003ctd\u003e808.806452\u003c/td\u003e\n      \u003ctd\u003e155.290323\u003c/td\u003e\n      \u003ctd\u003e75.129032\u003c/td\u003e\n      \u003ctd\u003e276.741935\u003c/td\u003e\n      \u003ctd\u003e2.548387\u003c/td\u003e\n      \u003ctd\u003e222.935484\u003c/td\u003e\n      \u003ctd\u003e13.548387\u003c/td\u003e\n      \u003ctd\u003e20.290323\u003c/td\u003e\n    \u003c/tr\u003e\n    \u003ctr\u003e\n      \u003cth\u003estd\u003c/th\u003e\n      \u003ctd\u003e9.092121\u003c/td\u003e\n      \u003ctd\u003e3.374229e+05\u003c/td\u003e\n      \u003ctd\u003e13263.522619\u003c/td\u003e\n      \u003ctd\u003e46394.447399\u003c/td\u003e\n      \u003ctd\u003e3.186909e+05\u003c/td\u003e\n      \u003ctd\u003e526.564602\u003c/td\u003e\n      \u003ctd\u003e391.404345\u003c/td\u003e\n      \u003ctd\u003e272.073421\u003c/td\u003e\n      \u003ctd\u003e35.189716\u003c/td\u003e\n      \u003ctd\u003e89.154909\u003c/td\u003e\n      \u003ctd\u003e6.402285\u003c/td\u003e\n      \u003ctd\u003e43.044113\u003c/td\u003e\n      \u003ctd\u003e47.436160\u003c/td\u003e\n      \u003ctd\u003e8.824940\u003c/td\u003e\n    \u003c/tr\u003e\n    \u003ctr\u003e\n      \u003cth\u003emin\u003c/th\u003e\n      \u003ctd\u003e1980.000000\u003c/td\u003e\n      \u003ctd\u003e1.367838e+06\u003c/td\u003e\n      \u003ctd\u003e22000.000000\u003c/td\u003e\n      \u003ctd\u003e86872.000000\u003c/td\u003e\n      \u003ctd\u003e1.525942e+06\u003c/td\u003e\n      \u003ctd\u003e796.000000\u003c/td\u003e\n      \u003ctd\u003e424.000000\u003c/td\u003e\n      \u003ctd\u003e0.000000\u003c/td\u003e\n      \u003ctd\u003e26.000000\u003c/td\u003e\n      \u003ctd\u003e154.000000\u003c/td\u003e\n      \u003ctd\u003e0.000000\u003c/td\u003e\n      \u003ctd\u003e150.000000\u003c/td\u003e\n      \u003ctd\u003e0.000000\u003c/td\u003e\n      \u003ctd\u003e4.000000\u003c/td\u003e\n    \u003c/tr\u003e\n    \u003ctr\u003e\n      \u003cth\u003e25%\u003c/th\u003e\n      \u003ctd\u003e1987.500000\u003c/td\u003e\n      \u003ctd\u003e1.406714e+06\u003c/td\u003e\n      \u003ctd\u003e65000.000000\u003c/td\u003e\n      \u003ctd\u003e96033.500000\u003c/td\u003e\n      \u003ctd\u003e1.620408e+06\u003c/td\u003e\n      \u003ctd\u003e1063.000000\u003c/td\u003e\n      \u003ctd\u003e516.500000\u003c/td\u003e\n      \u003ctd\u003e0.000000\u003c/td\u003e\n      \u003ctd\u003e47.000000\u003c/td\u003e\n      \u003ctd\u003e209.500000\u003c/td\u003e\n      \u003ctd\u003e0.000000\u003c/td\u003e\n      \u003ctd\u003e189.000000\u003c/td\u003e\n      \u003ctd\u003e0.000000\u003c/td\u003e\n      \u003ctd\u003e14.000000\u003c/td\u003e\n    \u003c/tr\u003e\n    \u003ctr\u003e\n      \u003cth\u003e50%\u003c/th\u003e\n      \u003ctd\u003e1995.000000\u003c/td\u003e\n      \u003ctd\u003e1.502343e+06\u003c/td\u003e\n      \u003ctd\u003e66000.000000\u003c/td\u003e\n      \u003ctd\u003e111491.000000\u003c/td\u003e\n      \u003ctd\u003e1.732632e+06\u003c/td\u003e\n      \u003ctd\u003e1515.000000\u003c/td\u003e\n      \u003ctd\u003e605.000000\u003c/td\u003e\n      \u003ctd\u003e1.000000\u003c/td\u003e\n      \u003ctd\u003e67.000000\u003c/td\u003e\n      \u003ctd\u003e256.000000\u003c/td\u003e\n      \u003ctd\u003e0.000000\u003c/td\u003e\n      \u003ctd\u003e231.000000\u003c/td\u003e\n      \u003ctd\u003e1.000000\u003c/td\u003e\n      \u003ctd\u003e19.000000\u003c/td\u003e\n    \u003c/tr\u003e\n    \u003ctr\u003e\n      \u003cth\u003e75%\u003c/th\u003e\n      \u003ctd\u003e2002.500000\u003c/td\u003e\n      \u003ctd\u003e2.102580e+06\u003c/td\u003e\n      \u003ctd\u003e71500.000000\u003c/td\u003e\n      \u003ctd\u003e158971.000000\u003c/td\u003e\n      \u003ctd\u003e2.254696e+06\u003c/td\u003e\n      \u003ctd\u003e1968.000000\u003c/td\u003e\n      \u003ctd\u003e1126.000000\u003c/td\u003e\n      \u003ctd\u003e229.500000\u003c/td\u003e\n      \u003ctd\u003e103.500000\u003c/td\u003e\n      \u003ctd\u003e342.000000\u003c/td\u003e\n      \u003ctd\u003e0.000000\u003c/td\u003e\n      \u003ctd\u003e255.000000\u003c/td\u003e\n      \u003ctd\u003e5.500000\u003c/td\u003e\n      \u003ctd\u003e26.500000\u003c/td\u003e\n    \u003c/tr\u003e\n    \u003ctr\u003e\n      \u003cth\u003emax\u003c/th\u003e\n      \u003ctd\u003e2010.000000\u003c/td\u003e\n      \u003ctd\u003e2.177845e+06\u003c/td\u003e\n      \u003ctd\u003e76000.000000\u003c/td\u003e\n      \u003ctd\u003e243284.000000\u003c/td\u003e\n      \u003ctd\u003e2.359855e+06\u003c/td\u003e\n      \u003ctd\u003e2465.000000\u003c/td\u003e\n      \u003ctd\u003e1556.000000\u003c/td\u003e\n      \u003ctd\u003e847.000000\u003c/td\u003e\n      \u003ctd\u003e174.000000\u003c/td\u003e\n      \u003ctd\u003e457.000000\u003c/td\u003e\n      \u003ctd\u003e22.000000\u003c/td\u003e\n      \u003ctd\u003e302.000000\u003c/td\u003e\n      \u003ctd\u003e263.000000\u003c/td\u003e\n      \u003ctd\u003e43.000000\u003c/td\u003e\n    \u003c/tr\u003e\n  \u003c/tbody\u003e\n\u003c/table\u003e\n\u003c/div\u003e",
                        "text/plain": "       Calendar Year   Active Duty  Full-Time (est) Guard+Reserve  \\\ncount      31.000000  3.100000e+01                      31.000000   \nmean     1995.000000  1.702285e+06                   63614.516129   \nstd         9.092121  3.374229e+05                   13263.522619   \nmin      1980.000000  1.367838e+06                   22000.000000   \n25%      1987.500000  1.406714e+06                   65000.000000   \n50%      1995.000000  1.502343e+06                   66000.000000   \n75%      2002.500000  2.102580e+06                   71500.000000   \nmax      2010.000000  2.177845e+06                   76000.000000   \n\n       Selected Reserve FTE  Total Military FTE  Total Deaths    Accident   \\\ncount             31.000000        3.100000e+01     31.000000    31.000000   \nmean          131157.935484        1.897057e+06   1575.290323   808.806452   \nstd            46394.447399        3.186909e+05    526.564602   391.404345   \nmin            86872.000000        1.525942e+06    796.000000   424.000000   \n25%            96033.500000        1.620408e+06   1063.000000   516.500000   \n50%           111491.000000        1.732632e+06   1515.000000   605.000000   \n75%           158971.000000        2.254696e+06   1968.000000  1126.000000   \nmax           243284.000000        2.359855e+06   2465.000000  1556.000000   \n\n       Hostile Action   Homicide     Illness    Pending   Self-Inflicted  \\\ncount       31.000000   31.000000   31.000000  31.000000       31.000000   \nmean       155.290323   75.129032  276.741935   2.548387      222.935484   \nstd        272.073421   35.189716   89.154909   6.402285       43.044113   \nmin          0.000000   26.000000  154.000000   0.000000      150.000000   \n25%          0.000000   47.000000  209.500000   0.000000      189.000000   \n50%          1.000000   67.000000  256.000000   0.000000      231.000000   \n75%        229.500000  103.500000  342.000000   0.000000      255.000000   \nmax        847.000000  174.000000  457.000000  22.000000      302.000000   \n\n       Terrorist Attack  Undetermined   \ncount         31.000000      31.000000  \nmean          13.548387      20.290323  \nstd           47.436160       8.824940  \nmin            0.000000       4.000000  \n25%            0.000000      14.000000  \n50%            1.000000      19.000000  \n75%            5.500000      26.500000  \nmax          263.000000      43.000000  "
                    },
                    "execution_count": 9,
                    "metadata": {},
                    "output_type": "execute_result"
                }
            ],
            "source": [
                "df.describe()"
            ]
        },
        {
            "attachments": {},
            "cell_type": "markdown",
            "metadata": {},
            "source": [
                "3. Prepare Data"
            ]
        },
        {
            "cell_type": "code",
            "execution_count": 65,
            "metadata": {},
            "outputs": [
                {
                    "data": {
                        "text/html": "\u003cdiv\u003e\n\u003cstyle scoped\u003e\n    .dataframe tbody tr th:only-of-type {\n        vertical-align: middle;\n    }\n\n    .dataframe tbody tr th {\n        vertical-align: top;\n    }\n\n    .dataframe thead th {\n        text-align: right;\n    }\n\u003c/style\u003e\n\u003ctable border=\"1\" class=\"dataframe\"\u003e\n  \u003cthead\u003e\n    \u003ctr style=\"text-align: right;\"\u003e\n      \u003cth\u003e\u003c/th\u003e\n      \u003cth\u003eCalendar Year\u003c/th\u003e\n      \u003cth\u003eFull-Time (est) Guard+Reserve\u003c/th\u003e\n      \u003cth\u003eSelected Reserve FTE\u003c/th\u003e\n      \u003cth\u003eTotal Military FTE\u003c/th\u003e\n      \u003cth\u003eTotal Deaths\u003c/th\u003e\n      \u003cth\u003eAccident\u003c/th\u003e\n      \u003cth\u003eHostile Action\u003c/th\u003e\n      \u003cth\u003eHomicide\u003c/th\u003e\n      \u003cth\u003eIllness\u003c/th\u003e\n      \u003cth\u003ePending\u003c/th\u003e\n      \u003cth\u003eSelf-Inflicted\u003c/th\u003e\n      \u003cth\u003eTerrorist Attack\u003c/th\u003e\n      \u003cth\u003eUndetermined\u003c/th\u003e\n    \u003c/tr\u003e\n  \u003c/thead\u003e\n  \u003ctbody\u003e\n    \u003ctr\u003e\n      \u003cth\u003e0\u003c/th\u003e\n      \u003ctd\u003e1980\u003c/td\u003e\n      \u003ctd\u003e22000\u003c/td\u003e\n      \u003ctd\u003e86872\u003c/td\u003e\n      \u003ctd\u003e2159630\u003c/td\u003e\n      \u003ctd\u003e2392\u003c/td\u003e\n      \u003ctd\u003e1556.0\u003c/td\u003e\n      \u003ctd\u003e0\u003c/td\u003e\n      \u003ctd\u003e174\u003c/td\u003e\n      \u003ctd\u003e419\u003c/td\u003e\n      \u003ctd\u003e0\u003c/td\u003e\n      \u003ctd\u003e231\u003c/td\u003e\n      \u003ctd\u003e1\u003c/td\u003e\n      \u003ctd\u003e11\u003c/td\u003e\n    \u003c/tr\u003e\n    \u003ctr\u003e\n      \u003cth\u003e1\u003c/th\u003e\n      \u003ctd\u003e1981\u003c/td\u003e\n      \u003ctd\u003e22000\u003c/td\u003e\n      \u003ctd\u003e91719\u003c/td\u003e\n      \u003ctd\u003e2206751\u003c/td\u003e\n      \u003ctd\u003e2380\u003c/td\u003e\n      \u003ctd\u003e1524.0\u003c/td\u003e\n      \u003ctd\u003e0\u003c/td\u003e\n      \u003ctd\u003e145\u003c/td\u003e\n      \u003ctd\u003e457\u003c/td\u003e\n      \u003ctd\u003e0\u003c/td\u003e\n      \u003ctd\u003e241\u003c/td\u003e\n      \u003ctd\u003e0\u003c/td\u003e\n      \u003ctd\u003e13\u003c/td\u003e\n    \u003c/tr\u003e\n    \u003ctr\u003e\n      \u003cth\u003e2\u003c/th\u003e\n      \u003ctd\u003e1982\u003c/td\u003e\n      \u003ctd\u003e41000\u003c/td\u003e\n      \u003ctd\u003e97458\u003c/td\u003e\n      \u003ctd\u003e2251067\u003c/td\u003e\n      \u003ctd\u003e2319\u003c/td\u003e\n      \u003ctd\u003e1493.0\u003c/td\u003e\n      \u003ctd\u003e0\u003c/td\u003e\n      \u003ctd\u003e108\u003c/td\u003e\n      \u003ctd\u003e446\u003c/td\u003e\n      \u003ctd\u003e0\u003c/td\u003e\n      \u003ctd\u003e254\u003c/td\u003e\n      \u003ctd\u003e2\u003c/td\u003e\n      \u003ctd\u003e16\u003c/td\u003e\n    \u003c/tr\u003e\n    \u003ctr\u003e\n      \u003cth\u003e3\u003c/th\u003e\n      \u003ctd\u003e1983\u003c/td\u003e\n      \u003ctd\u003e49000\u003c/td\u003e\n      \u003ctd\u003e100455\u003c/td\u003e\n      \u003ctd\u003e2273364\u003c/td\u003e\n      \u003ctd\u003e2465\u003c/td\u003e\n      \u003ctd\u003e1413.0\u003c/td\u003e\n      \u003ctd\u003e18\u003c/td\u003e\n      \u003ctd\u003e115\u003c/td\u003e\n      \u003ctd\u003e419\u003c/td\u003e\n      \u003ctd\u003e0\u003c/td\u003e\n      \u003ctd\u003e218\u003c/td\u003e\n      \u003ctd\u003e263\u003c/td\u003e\n      \u003ctd\u003e19\u003c/td\u003e\n    \u003c/tr\u003e\n    \u003ctr\u003e\n      \u003cth\u003e4\u003c/th\u003e\n      \u003ctd\u003e1984\u003c/td\u003e\n      \u003ctd\u003e55000\u003c/td\u003e\n      \u003ctd\u003e104583\u003c/td\u003e\n      \u003ctd\u003e2297922\u003c/td\u003e\n      \u003ctd\u003e1999\u003c/td\u003e\n      \u003ctd\u003e1293.0\u003c/td\u003e\n      \u003ctd\u003e1\u003c/td\u003e\n      \u003ctd\u003e84\u003c/td\u003e\n      \u003ctd\u003e374\u003c/td\u003e\n      \u003ctd\u003e0\u003c/td\u003e\n      \u003ctd\u003e225\u003c/td\u003e\n      \u003ctd\u003e6\u003c/td\u003e\n      \u003ctd\u003e16\u003c/td\u003e\n    \u003c/tr\u003e\n    \u003ctr\u003e\n      \u003cth\u003e5\u003c/th\u003e\n      \u003ctd\u003e1985\u003c/td\u003e\n      \u003ctd\u003e64000\u003c/td\u003e\n      \u003ctd\u003e108806\u003c/td\u003e\n      \u003ctd\u003e2323185\u003c/td\u003e\n      \u003ctd\u003e2252\u003c/td\u003e\n      \u003ctd\u003e1476.0\u003c/td\u003e\n      \u003ctd\u003e0\u003c/td\u003e\n      \u003ctd\u003e111\u003c/td\u003e\n      \u003ctd\u003e363\u003c/td\u003e\n      \u003ctd\u003e0\u003c/td\u003e\n      \u003ctd\u003e275\u003c/td\u003e\n      \u003ctd\u003e5\u003c/td\u003e\n      \u003ctd\u003e22\u003c/td\u003e\n    \u003c/tr\u003e\n    \u003ctr\u003e\n      \u003cth\u003e6\u003c/th\u003e\n      \u003ctd\u003e1986\u003c/td\u003e\n      \u003ctd\u003e69000\u003c/td\u003e\n      \u003ctd\u003e113010\u003c/td\u003e\n      \u003ctd\u003e2359855\u003c/td\u003e\n      \u003ctd\u003e1984\u003c/td\u003e\n      \u003ctd\u003e1199.0\u003c/td\u003e\n      \u003ctd\u003e2\u003c/td\u003e\n      \u003ctd\u003e103\u003c/td\u003e\n      \u003ctd\u003e384\u003c/td\u003e\n      \u003ctd\u003e0\u003c/td\u003e\n      \u003ctd\u003e269\u003c/td\u003e\n      \u003ctd\u003e0\u003c/td\u003e\n      \u003ctd\u003e27\u003c/td\u003e\n    \u003c/tr\u003e\n    \u003ctr\u003e\n      \u003cth\u003e7\u003c/th\u003e\n      \u003ctd\u003e1987\u003c/td\u003e\n      \u003ctd\u003e71000\u003c/td\u003e\n      \u003ctd\u003e115086\u003c/td\u003e\n      \u003ctd\u003e2352697\u003c/td\u003e\n      \u003ctd\u003e1983\u003c/td\u003e\n      \u003ctd\u003e1172.0\u003c/td\u003e\n      \u003ctd\u003e37\u003c/td\u003e\n      \u003ctd\u003e104\u003c/td\u003e\n      \u003ctd\u003e383\u003c/td\u003e\n      \u003ctd\u003e0\u003c/td\u003e\n      \u003ctd\u003e260\u003c/td\u003e\n      \u003ctd\u003e2\u003c/td\u003e\n      \u003ctd\u003e25\u003c/td\u003e\n    \u003c/tr\u003e\n    \u003ctr\u003e\n      \u003cth\u003e8\u003c/th\u003e\n      \u003ctd\u003e1988\u003c/td\u003e\n      \u003ctd\u003e72000\u003c/td\u003e\n      \u003ctd\u003e115836\u003c/td\u003e\n      \u003ctd\u003e2309495\u003c/td\u003e\n      \u003ctd\u003e1819\u003c/td\u003e\n      \u003ctd\u003e1080.0\u003c/td\u003e\n      \u003ctd\u003e0\u003c/td\u003e\n      \u003ctd\u003e90\u003c/td\u003e\n      \u003ctd\u003e321\u003c/td\u003e\n      \u003ctd\u003e0\u003c/td\u003e\n      \u003ctd\u003e285\u003c/td\u003e\n      \u003ctd\u003e17\u003c/td\u003e\n      \u003ctd\u003e26\u003c/td\u003e\n    \u003c/tr\u003e\n    \u003ctr\u003e\n      \u003cth\u003e9\u003c/th\u003e\n      \u003ctd\u003e1989\u003c/td\u003e\n      \u003ctd\u003e74200\u003c/td\u003e\n      \u003ctd\u003e117056\u003c/td\u003e\n      \u003ctd\u003e2303384\u003c/td\u003e\n      \u003ctd\u003e1636\u003c/td\u003e\n      \u003ctd\u003e1000.0\u003c/td\u003e\n      \u003ctd\u003e23\u003c/td\u003e\n      \u003ctd\u003e58\u003c/td\u003e\n      \u003ctd\u003e294\u003c/td\u003e\n      \u003ctd\u003e0\u003c/td\u003e\n      \u003ctd\u003e224\u003c/td\u003e\n      \u003ctd\u003e0\u003c/td\u003e\n      \u003ctd\u003e37\u003c/td\u003e\n    \u003c/tr\u003e\n    \u003ctr\u003e\n      \u003cth\u003e10\u003c/th\u003e\n      \u003ctd\u003e1990\u003c/td\u003e\n      \u003ctd\u003e74250\u003c/td\u003e\n      \u003ctd\u003e137268\u003c/td\u003e\n      \u003ctd\u003e2258324\u003c/td\u003e\n      \u003ctd\u003e1507\u003c/td\u003e\n      \u003ctd\u003e880.0\u003c/td\u003e\n      \u003ctd\u003e0\u003c/td\u003e\n      \u003ctd\u003e74\u003c/td\u003e\n      \u003ctd\u003e277\u003c/td\u003e\n      \u003ctd\u003e0\u003c/td\u003e\n      \u003ctd\u003e232\u003c/td\u003e\n      \u003ctd\u003e1\u003c/td\u003e\n      \u003ctd\u003e43\u003c/td\u003e\n    \u003c/tr\u003e\n    \u003ctr\u003e\n      \u003cth\u003e11\u003c/th\u003e\n      \u003ctd\u003e1991\u003c/td\u003e\n      \u003ctd\u003e70250\u003c/td\u003e\n      \u003ctd\u003e184002\u003c/td\u003e\n      \u003ctd\u003e2198189\u003c/td\u003e\n      \u003ctd\u003e1787\u003c/td\u003e\n      \u003ctd\u003e931.0\u003c/td\u003e\n      \u003ctd\u003e147\u003c/td\u003e\n      \u003ctd\u003e112\u003c/td\u003e\n      \u003ctd\u003e308\u003c/td\u003e\n      \u003ctd\u003e0\u003c/td\u003e\n      \u003ctd\u003e256\u003c/td\u003e\n      \u003ctd\u003e0\u003c/td\u003e\n      \u003ctd\u003e33\u003c/td\u003e\n    \u003c/tr\u003e\n    \u003ctr\u003e\n      \u003cth\u003e12\u003c/th\u003e\n      \u003ctd\u003e1992\u003c/td\u003e\n      \u003ctd\u003e67850\u003c/td\u003e\n      \u003ctd\u003e111491\u003c/td\u003e\n      \u003ctd\u003e1953337\u003c/td\u003e\n      \u003ctd\u003e1293\u003c/td\u003e\n      \u003ctd\u003e676.0\u003c/td\u003e\n      \u003ctd\u003e0\u003c/td\u003e\n      \u003ctd\u003e109\u003c/td\u003e\n      \u003ctd\u003e252\u003c/td\u003e\n      \u003ctd\u003e0\u003c/td\u003e\n      \u003ctd\u003e238\u003c/td\u003e\n      \u003ctd\u003e1\u003c/td\u003e\n      \u003ctd\u003e17\u003c/td\u003e\n    \u003c/tr\u003e\n    \u003ctr\u003e\n      \u003cth\u003e13\u003c/th\u003e\n      \u003ctd\u003e1993\u003c/td\u003e\n      \u003ctd\u003e68500\u003c/td\u003e\n      \u003ctd\u003e105768\u003c/td\u003e\n      \u003ctd\u003e1849537\u003c/td\u003e\n      \u003ctd\u003e1213\u003c/td\u003e\n      \u003ctd\u003e632.0\u003c/td\u003e\n      \u003ctd\u003e0\u003c/td\u003e\n      \u003ctd\u003e86\u003c/td\u003e\n      \u003ctd\u003e221\u003c/td\u003e\n      \u003ctd\u003e0\u003c/td\u003e\n      \u003ctd\u003e236\u003c/td\u003e\n      \u003ctd\u003e29\u003c/td\u003e\n      \u003ctd\u003e9\u003c/td\u003e\n    \u003c/tr\u003e\n    \u003ctr\u003e\n      \u003cth\u003e14\u003c/th\u003e\n      \u003ctd\u003e1994\u003c/td\u003e\n      \u003ctd\u003e65000\u003c/td\u003e\n      \u003ctd\u003e99833\u003c/td\u003e\n      \u003ctd\u003e1746482\u003c/td\u003e\n      \u003ctd\u003e1075\u003c/td\u003e\n      \u003ctd\u003e544.0\u003c/td\u003e\n      \u003ctd\u003e0\u003c/td\u003e\n      \u003ctd\u003e83\u003c/td\u003e\n      \u003ctd\u003e206\u003c/td\u003e\n      \u003ctd\u003e0\u003c/td\u003e\n      \u003ctd\u003e232\u003c/td\u003e\n      \u003ctd\u003e0\u003c/td\u003e\n      \u003ctd\u003e10\u003c/td\u003e\n    \u003c/tr\u003e\n    \u003ctr\u003e\n      \u003cth\u003e15\u003c/th\u003e\n      \u003ctd\u003e1995\u003c/td\u003e\n      \u003ctd\u003e65000\u003c/td\u003e\n      \u003ctd\u003e94585\u003c/td\u003e\n      \u003ctd\u003e1661928\u003c/td\u003e\n      \u003ctd\u003e1040\u003c/td\u003e\n      \u003ctd\u003e538.0\u003c/td\u003e\n      \u003ctd\u003e0\u003c/td\u003e\n      \u003ctd\u003e67\u003c/td\u003e\n      \u003ctd\u003e174\u003c/td\u003e\n      \u003ctd\u003e0\u003c/td\u003e\n      \u003ctd\u003e250\u003c/td\u003e\n      \u003ctd\u003e7\u003c/td\u003e\n      \u003ctd\u003e4\u003c/td\u003e\n    \u003c/tr\u003e\n    \u003ctr\u003e\n      \u003cth\u003e16\u003c/th\u003e\n      \u003ctd\u003e1996\u003c/td\u003e\n      \u003ctd\u003e65000\u003c/td\u003e\n      \u003ctd\u003e92409\u003c/td\u003e\n      \u003ctd\u003e1613675\u003c/td\u003e\n      \u003ctd\u003e974\u003c/td\u003e\n      \u003ctd\u003e527.0\u003c/td\u003e\n      \u003ctd\u003e1\u003c/td\u003e\n      \u003ctd\u003e52\u003c/td\u003e\n      \u003ctd\u003e173\u003c/td\u003e\n      \u003ctd\u003e0\u003c/td\u003e\n      \u003ctd\u003e188\u003c/td\u003e\n      \u003ctd\u003e19\u003c/td\u003e\n      \u003ctd\u003e14\u003c/td\u003e\n    \u003c/tr\u003e\n    \u003ctr\u003e\n      \u003cth\u003e17\u003c/th\u003e\n      \u003ctd\u003e1997\u003c/td\u003e\n      \u003ctd\u003e65000\u003c/td\u003e\n      \u003ctd\u003e94609\u003c/td\u003e\n      \u003ctd\u003e1578382\u003c/td\u003e\n      \u003ctd\u003e817\u003c/td\u003e\n      \u003ctd\u003e433.0\u003c/td\u003e\n      \u003ctd\u003e0\u003c/td\u003e\n      \u003ctd\u003e42\u003c/td\u003e\n      \u003ctd\u003e170\u003c/td\u003e\n      \u003ctd\u003e0\u003c/td\u003e\n      \u003ctd\u003e159\u003c/td\u003e\n      \u003ctd\u003e0\u003c/td\u003e\n      \u003ctd\u003e13\u003c/td\u003e\n    \u003c/tr\u003e\n    \u003ctr\u003e\n      \u003cth\u003e18\u003c/th\u003e\n      \u003ctd\u003e1998\u003c/td\u003e\n      \u003ctd\u003e65000\u003c/td\u003e\n      \u003ctd\u003e92536\u003c/td\u003e\n      \u003ctd\u003e1538570\u003c/td\u003e\n      \u003ctd\u003e827\u003c/td\u003e\n      \u003ctd\u003e445.0\u003c/td\u003e\n      \u003ctd\u003e0\u003c/td\u003e\n      \u003ctd\u003e26\u003c/td\u003e\n      \u003ctd\u003e174\u003c/td\u003e\n      \u003ctd\u003e0\u003c/td\u003e\n      \u003ctd\u003e165\u003c/td\u003e\n      \u003ctd\u003e3\u003c/td\u003e\n      \u003ctd\u003e14\u003c/td\u003e\n    \u003c/tr\u003e\n    \u003ctr\u003e\n      \u003cth\u003e19\u003c/th\u003e\n      \u003ctd\u003e1999\u003c/td\u003e\n      \u003ctd\u003e65000\u003c/td\u003e\n      \u003ctd\u003e93104\u003c/td\u003e\n      \u003ctd\u003e1525942\u003c/td\u003e\n      \u003ctd\u003e796\u003c/td\u003e\n      \u003ctd\u003e439.0\u003c/td\u003e\n      \u003ctd\u003e0\u003c/td\u003e\n      \u003ctd\u003e38\u003c/td\u003e\n      \u003ctd\u003e154\u003c/td\u003e\n      \u003ctd\u003e0\u003c/td\u003e\n      \u003ctd\u003e150\u003c/td\u003e\n      \u003ctd\u003e0\u003c/td\u003e\n      \u003ctd\u003e15\u003c/td\u003e\n    \u003c/tr\u003e\n    \u003ctr\u003e\n      \u003cth\u003e20\u003c/th\u003e\n      \u003ctd\u003e2000\u003c/td\u003e\n      \u003ctd\u003e65000\u003c/td\u003e\n      \u003ctd\u003e93078\u003c/td\u003e\n      \u003ctd\u003e1530430\u003c/td\u003e\n      \u003ctd\u003e832\u003c/td\u003e\n      \u003ctd\u003e429.0\u003c/td\u003e\n      \u003ctd\u003e0\u003c/td\u003e\n      \u003ctd\u003e37\u003c/td\u003e\n      \u003ctd\u003e180\u003c/td\u003e\n      \u003ctd\u003e0\u003c/td\u003e\n      \u003ctd\u003e153\u003c/td\u003e\n      \u003ctd\u003e17\u003c/td\u003e\n      \u003ctd\u003e16\u003c/td\u003e\n    \u003c/tr\u003e\n    \u003ctr\u003e\n      \u003cth\u003e21\u003c/th\u003e\n      \u003ctd\u003e2001\u003c/td\u003e\n      \u003ctd\u003e65000\u003c/td\u003e\n      \u003ctd\u003e102284\u003c/td\u003e\n      \u003ctd\u003e1552096\u003c/td\u003e\n      \u003ctd\u003e943\u003c/td\u003e\n      \u003ctd\u003e461.0\u003c/td\u003e\n      \u003ctd\u003e12\u003c/td\u003e\n      \u003ctd\u003e49\u003c/td\u003e\n      \u003ctd\u003e197\u003c/td\u003e\n      \u003ctd\u003e0\u003c/td\u003e\n      \u003ctd\u003e153\u003c/td\u003e\n      \u003ctd\u003e46\u003c/td\u003e\n      \u003ctd\u003e25\u003c/td\u003e\n    \u003c/tr\u003e\n    \u003ctr\u003e\n      \u003cth\u003e22\u003c/th\u003e\n      \u003ctd\u003e2002\u003c/td\u003e\n      \u003ctd\u003e66000\u003c/td\u003e\n      \u003ctd\u003e149942\u003c/td\u003e\n      \u003ctd\u003e1627142\u003c/td\u003e\n      \u003ctd\u003e1051\u003c/td\u003e\n      \u003ctd\u003e565.0\u003c/td\u003e\n      \u003ctd\u003e17\u003c/td\u003e\n      \u003ctd\u003e54\u003c/td\u003e\n      \u003ctd\u003e213\u003c/td\u003e\n      \u003ctd\u003e0\u003c/td\u003e\n      \u003ctd\u003e174\u003c/td\u003e\n      \u003ctd\u003e0\u003c/td\u003e\n      \u003ctd\u003e28\u003c/td\u003e\n    \u003c/tr\u003e\n    \u003ctr\u003e\n      \u003cth\u003e23\u003c/th\u003e\n      \u003ctd\u003e2003\u003c/td\u003e\n      \u003ctd\u003e66000\u003c/td\u003e\n      \u003ctd\u003e243284\u003c/td\u003e\n      \u003ctd\u003e1732632\u003c/td\u003e\n      \u003ctd\u003e1399\u003c/td\u003e\n      \u003ctd\u003e597.0\u003c/td\u003e\n      \u003ctd\u003e312\u003c/td\u003e\n      \u003ctd\u003e46\u003c/td\u003e\n      \u003ctd\u003e231\u003c/td\u003e\n      \u003ctd\u003e1\u003c/td\u003e\n      \u003ctd\u003e190\u003c/td\u003e\n      \u003ctd\u003e0\u003c/td\u003e\n      \u003ctd\u003e22\u003c/td\u003e\n    \u003c/tr\u003e\n    \u003ctr\u003e\n      \u003cth\u003e24\u003c/th\u003e\n      \u003ctd\u003e2004\u003c/td\u003e\n      \u003ctd\u003e66000\u003c/td\u003e\n      \u003ctd\u003e234629\u003c/td\u003e\n      \u003ctd\u003e1711916\u003c/td\u003e\n      \u003ctd\u003e1847\u003c/td\u003e\n      \u003ctd\u003e605.0\u003c/td\u003e\n      \u003ctd\u003e735\u003c/td\u003e\n      \u003ctd\u003e46\u003c/td\u003e\n      \u003ctd\u003e256\u003c/td\u003e\n      \u003ctd\u003e0\u003c/td\u003e\n      \u003ctd\u003e197\u003c/td\u003e\n      \u003ctd\u003e0\u003c/td\u003e\n      \u003ctd\u003e8\u003c/td\u003e\n    \u003c/tr\u003e\n    \u003ctr\u003e\n      \u003cth\u003e25\u003c/th\u003e\n      \u003ctd\u003e2005\u003c/td\u003e\n      \u003ctd\u003e66000\u003c/td\u003e\n      \u003ctd\u003e220000\u003c/td\u003e\n      \u003ctd\u003e1664014\u003c/td\u003e\n      \u003ctd\u003e1929\u003c/td\u003e\n      \u003ctd\u003e646.0\u003c/td\u003e\n      \u003ctd\u003e739\u003c/td\u003e\n      \u003ctd\u003e54\u003c/td\u003e\n      \u003ctd\u003e280\u003c/td\u003e\n      \u003ctd\u003e1\u003c/td\u003e\n      \u003ctd\u003e182\u003c/td\u003e\n      \u003ctd\u003e0\u003c/td\u003e\n      \u003ctd\u003e27\u003c/td\u003e\n    \u003c/tr\u003e\n    \u003ctr\u003e\n      \u003cth\u003e26\u003c/th\u003e\n      \u003ctd\u003e2006\u003c/td\u003e\n      \u003ctd\u003e72000\u003c/td\u003e\n      \u003ctd\u003e168000\u003c/td\u003e\n      \u003ctd\u003e1611533\u003c/td\u003e\n      \u003ctd\u003e1882\u003c/td\u003e\n      \u003ctd\u003e561.0\u003c/td\u003e\n      \u003ctd\u003e769\u003c/td\u003e\n      \u003ctd\u003e47\u003c/td\u003e\n      \u003ctd\u003e257\u003c/td\u003e\n      \u003ctd\u003e8\u003c/td\u003e\n      \u003ctd\u003e213\u003c/td\u003e\n      \u003ctd\u003e0\u003c/td\u003e\n      \u003ctd\u003e27\u003c/td\u003e\n    \u003c/tr\u003e\n    \u003ctr\u003e\n      \u003cth\u003e27\u003c/th\u003e\n      \u003ctd\u003e2007\u003c/td\u003e\n      \u003ctd\u003e72000\u003c/td\u003e\n      \u003ctd\u003e168000\u003c/td\u003e\n      \u003ctd\u003e1608226\u003c/td\u003e\n      \u003ctd\u003e1953\u003c/td\u003e\n      \u003ctd\u003e561.0\u003c/td\u003e\n      \u003ctd\u003e847\u003c/td\u003e\n      \u003ctd\u003e52\u003c/td\u003e\n      \u003ctd\u003e237\u003c/td\u003e\n      \u003ctd\u003e22\u003c/td\u003e\n      \u003ctd\u003e211\u003c/td\u003e\n      \u003ctd\u003e0\u003c/td\u003e\n      \u003ctd\u003e23\u003c/td\u003e\n    \u003c/tr\u003e\n    \u003ctr\u003e\n      \u003cth\u003e28\u003c/th\u003e\n      \u003ctd\u003e2008\u003c/td\u003e\n      \u003ctd\u003e73000\u003c/td\u003e\n      \u003ctd\u003e207917\u003c/td\u003e\n      \u003ctd\u003e1683144\u003c/td\u003e\n      \u003ctd\u003e1440\u003c/td\u003e\n      \u003ctd\u003e506.0\u003c/td\u003e\n      \u003ctd\u003e352\u003c/td\u003e\n      \u003ctd\u003e47\u003c/td\u003e\n      \u003ctd\u003e244\u003c/td\u003e\n      \u003ctd\u003e6\u003c/td\u003e\n      \u003ctd\u003e259\u003c/td\u003e\n      \u003ctd\u003e1\u003c/td\u003e\n      \u003ctd\u003e25\u003c/td\u003e\n    \u003c/tr\u003e\n    \u003ctr\u003e\n      \u003cth\u003e29\u003c/th\u003e\n      \u003ctd\u003e2009\u003c/td\u003e\n      \u003ctd\u003e75000\u003c/td\u003e\n      \u003ctd\u003e144083\u003c/td\u003e\n      \u003ctd\u003e1640751\u003c/td\u003e\n      \u003ctd\u003e1515\u003c/td\u003e\n      \u003ctd\u003e467.0\u003c/td\u003e\n      \u003ctd\u003e346\u003c/td\u003e\n      \u003ctd\u003e77\u003c/td\u003e\n      \u003ctd\u003e277\u003c/td\u003e\n      \u003ctd\u003e19\u003c/td\u003e\n      \u003ctd\u003e302\u003c/td\u003e\n      \u003ctd\u003e0\u003c/td\u003e\n      \u003ctd\u003e27\u003c/td\u003e\n    \u003c/tr\u003e\n    \u003ctr\u003e\n      \u003cth\u003e30\u003c/th\u003e\n      \u003ctd\u003e2010\u003c/td\u003e\n      \u003ctd\u003e76000\u003c/td\u003e\n      \u003ctd\u003e178193\u003c/td\u003e\n      \u003ctd\u003e1685178\u003c/td\u003e\n      \u003ctd\u003e1485\u003c/td\u003e\n      \u003ctd\u003e424.0\u003c/td\u003e\n      \u003ctd\u003e456\u003c/td\u003e\n      \u003ctd\u003e39\u003c/td\u003e\n      \u003ctd\u003e238\u003c/td\u003e\n      \u003ctd\u003e22\u003c/td\u003e\n      \u003ctd\u003e289\u003c/td\u003e\n      \u003ctd\u003e0\u003c/td\u003e\n      \u003ctd\u003e17\u003c/td\u003e\n    \u003c/tr\u003e\n  \u003c/tbody\u003e\n\u003c/table\u003e\n\u003c/div\u003e",
                        "text/plain": "    Calendar Year  Full-Time (est) Guard+Reserve  Selected Reserve FTE  \\\n0            1980                          22000                 86872   \n1            1981                          22000                 91719   \n2            1982                          41000                 97458   \n3            1983                          49000                100455   \n4            1984                          55000                104583   \n5            1985                          64000                108806   \n6            1986                          69000                113010   \n7            1987                          71000                115086   \n8            1988                          72000                115836   \n9            1989                          74200                117056   \n10           1990                          74250                137268   \n11           1991                          70250                184002   \n12           1992                          67850                111491   \n13           1993                          68500                105768   \n14           1994                          65000                 99833   \n15           1995                          65000                 94585   \n16           1996                          65000                 92409   \n17           1997                          65000                 94609   \n18           1998                          65000                 92536   \n19           1999                          65000                 93104   \n20           2000                          65000                 93078   \n21           2001                          65000                102284   \n22           2002                          66000                149942   \n23           2003                          66000                243284   \n24           2004                          66000                234629   \n25           2005                          66000                220000   \n26           2006                          72000                168000   \n27           2007                          72000                168000   \n28           2008                          73000                207917   \n29           2009                          75000                144083   \n30           2010                          76000                178193   \n\n    Total Military FTE  Total Deaths  Accident   Hostile Action  Homicide   \\\n0              2159630          2392     1556.0               0        174   \n1              2206751          2380     1524.0               0        145   \n2              2251067          2319     1493.0               0        108   \n3              2273364          2465     1413.0              18        115   \n4              2297922          1999     1293.0               1         84   \n5              2323185          2252     1476.0               0        111   \n6              2359855          1984     1199.0               2        103   \n7              2352697          1983     1172.0              37        104   \n8              2309495          1819     1080.0               0         90   \n9              2303384          1636     1000.0              23         58   \n10             2258324          1507      880.0               0         74   \n11             2198189          1787      931.0             147        112   \n12             1953337          1293      676.0               0        109   \n13             1849537          1213      632.0               0         86   \n14             1746482          1075      544.0               0         83   \n15             1661928          1040      538.0               0         67   \n16             1613675           974      527.0               1         52   \n17             1578382           817      433.0               0         42   \n18             1538570           827      445.0               0         26   \n19             1525942           796      439.0               0         38   \n20             1530430           832      429.0               0         37   \n21             1552096           943      461.0              12         49   \n22             1627142          1051      565.0              17         54   \n23             1732632          1399      597.0             312         46   \n24             1711916          1847      605.0             735         46   \n25             1664014          1929      646.0             739         54   \n26             1611533          1882      561.0             769         47   \n27             1608226          1953      561.0             847         52   \n28             1683144          1440      506.0             352         47   \n29             1640751          1515      467.0             346         77   \n30             1685178          1485      424.0             456         39   \n\n    Illness   Pending   Self-Inflicted  Terrorist Attack  Undetermined   \n0        419         0             231                 1             11  \n1        457         0             241                 0             13  \n2        446         0             254                 2             16  \n3        419         0             218               263             19  \n4        374         0             225                 6             16  \n5        363         0             275                 5             22  \n6        384         0             269                 0             27  \n7        383         0             260                 2             25  \n8        321         0             285                17             26  \n9        294         0             224                 0             37  \n10       277         0             232                 1             43  \n11       308         0             256                 0             33  \n12       252         0             238                 1             17  \n13       221         0             236                29              9  \n14       206         0             232                 0             10  \n15       174         0             250                 7              4  \n16       173         0             188                19             14  \n17       170         0             159                 0             13  \n18       174         0             165                 3             14  \n19       154         0             150                 0             15  \n20       180         0             153                17             16  \n21       197         0             153                46             25  \n22       213         0             174                 0             28  \n23       231         1             190                 0             22  \n24       256         0             197                 0              8  \n25       280         1             182                 0             27  \n26       257         8             213                 0             27  \n27       237        22             211                 0             23  \n28       244         6             259                 1             25  \n29       277        19             302                 0             27  \n30       238        22             289                 0             17  "
                    },
                    "execution_count": 65,
                    "metadata": {},
                    "output_type": "execute_result"
                }
            ],
            "source": [
                "# Run this section to inspect X\n",
                "X = df.drop(columns = ['Active Duty'])\n",
                "X"
            ]
        },
        {
            "cell_type": "code",
            "execution_count": 17,
            "metadata": {},
            "outputs": [
                {
                    "data": {
                        "text/plain": "0     2050758\n1     2093032\n2     2112609\n3     2123909\n4     2138339\n5     2150379\n6     2177845\n7     2166611\n8     2121659\n9     2112128\n10    2046806\n11    1943937\n12    1773996\n13    1675269\n14    1581649\n15    1502343\n16    1456266\n17    1418773\n18    1381034\n19    1367838\n20    1372352\n21    1384812\n22    1411200\n23    1423348\n24    1411287\n25    1378014\n26    1371533\n27    1368226\n28    1402227\n29    1421668\n30    1430985\nName: Active Duty, dtype: int64"
                    },
                    "execution_count": 17,
                    "metadata": {},
                    "output_type": "execute_result"
                }
            ],
            "source": [
                "# Uncomment this section to inpect y\n",
                "y = df['Active Duty']\n",
                "y"
            ]
        },
        {
            "attachments": {},
            "cell_type": "markdown",
            "metadata": {},
            "source": [
                "4. Calculate accuracy"
            ]
        },
        {
            "cell_type": "code",
            "execution_count": 74,
            "metadata": {},
            "outputs": [
                {
                    "data": {
                        "text/plain": "0.0"
                    },
                    "execution_count": 74,
                    "metadata": {},
                    "output_type": "execute_result"
                }
            ],
            "source": [
                "# Train 80% of the data set and use the rest to test\n",
                "X_train, X_test, y_train, y_test = train_test_split(\n",
                "                                    X, y, test_size=0.2)\n",
                "\n",
                "model = DecisionTreeClassifier()\n",
                "model.fit(X_train, y_train)\n",
                "predictions = model.predict(X_test)\n",
                "\n",
                "# Compute model accuracy\n",
                "score = accuracy_score(y_test, predictions)\n",
                "score"
            ]
        },
        {
            "attachments": {},
            "cell_type": "markdown",
            "metadata": {},
            "source": [
                "5. Persisting Models"
            ]
        },
        {
            "cell_type": "code",
            "execution_count": 75,
            "metadata": {},
            "outputs": [
                {
                    "data": {
                        "text/plain": "['active-duty-model.joblib']"
                    },
                    "execution_count": 75,
                    "metadata": {},
                    "output_type": "execute_result"
                }
            ],
            "source": [
                "# Save the model to file\n",
                "joblib.dump(model, 'active-duty-model.joblib')\n",
                ""
            ]
        },
        {
            "attachments": {},
            "cell_type": "markdown",
            "metadata": {},
            "source": [
                "5.b. Import the model and make predictions"
            ]
        },
        {
            "cell_type": "code",
            "execution_count": 76,
            "metadata": {},
            "outputs": [
                {
                    "data": {
                        "text/plain": "array([1411287, 1502343, 1368226, 1402227, 2050758, 2138339, 2138339])"
                    },
                    "execution_count": 76,
                    "metadata": {},
                    "output_type": "execute_result"
                }
            ],
            "source": [
                "# Load saved model. Make sure that you have run the previous\n",
                "# section at least once, and that the file exists.\n",
                "\n",
                "model = joblib.load('active-duty-model.joblib')\n",
                "predictions = model.predict(X_test)\n",
                "predictions"
            ]
        },
        {
            "attachments": {},
            "cell_type": "markdown",
            "metadata": {},
            "source": [
                "6. (Optional) Visualize decision trees"
            ]
        },
        {
            "cell_type": "code",
            "execution_count": 77,
            "metadata": {},
            "outputs": [],
            "source": [
                "tree.export_graphviz(model, out_file = 'active-duty-model.dot',\n",
                "                    feature_names = X.columns, \n",
                "                    class_names = str(sorted(y.unique())), \n",
                "                    label = 'all',\n",
                "                    rounded = True, \n",
                "                    filled = True)\n",
                "\n",
                "#Download the file music-recommender.dot and open it in VS Code.\n",
                ""
            ]
        }
    ]
}
